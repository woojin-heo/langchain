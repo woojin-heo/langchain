{
 "cells": [
  {
   "cell_type": "markdown",
   "metadata": {},
   "source": [
    "# email gpt\n",
    "- input : email draft, receiver and sender\n",
    "- output : gpt refined email"
   ]
  },
  {
   "cell_type": "code",
   "execution_count": 68,
   "metadata": {},
   "outputs": [],
   "source": [
    "from langchain.prompts import ChatPromptTemplate, MessagesPlaceholder\n",
    "# from langchain.embeddings import OllamaEmbeddings\n",
    "from langchain.chat_models import ChatOllama\n",
    "from langchain.memory import ConversationSummaryBufferMemory\n",
    "from langchain.schema.runnable import RunnablePassthrough"
   ]
  },
  {
   "cell_type": "code",
   "execution_count": null,
   "metadata": {},
   "outputs": [],
   "source": [
    "# chat model\n",
    "llm = ChatOllama(\n",
    "    model=\"mistral:latest\",\n",
    "    temperature=0.1,\n",
    "    streaing=True\n",
    ")"
   ]
  },
  {
   "cell_type": "code",
   "execution_count": 114,
   "metadata": {},
   "outputs": [],
   "source": [
    "# memory\n",
    "memory = ConversationSummaryBufferMemory(\n",
    "    llm=llm,\n",
    "    max_token_limit=200,\n",
    "    memory_key=\"history\",\n",
    "    return_messages=True\n",
    ")"
   ]
  },
  {
   "cell_type": "code",
   "execution_count": 115,
   "metadata": {},
   "outputs": [
    {
     "data": {
      "text/plain": [
       "{'history': []}"
      ]
     },
     "execution_count": 115,
     "metadata": {},
     "output_type": "execute_result"
    }
   ],
   "source": [
    "memory.load_memory_variables({})"
   ]
  },
  {
   "cell_type": "code",
   "execution_count": null,
   "metadata": {},
   "outputs": [],
   "source": [
    "# embedding\n",
    "# embeddings = OllamaEmbeddings(model='mistral:latest')"
   ]
  },
  {
   "cell_type": "code",
   "execution_count": 116,
   "metadata": {},
   "outputs": [],
   "source": [
    "# prompt\n",
    "prompt = ChatPromptTemplate.from_messages(\n",
    "    [\n",
    "        ('system','Generate email using following information. Do not generate too long email. Be concise and polite.'),\n",
    "        MessagesPlaceholder(variable_name='history'),    \n",
    "        ('human',\"\"\"\n",
    "        To: {receiver}\n",
    "        Contents: {contents}\n",
    "        From: {sender}\n",
    "        \"\"\")\n",
    "    ]\n",
    ")"
   ]
  },
  {
   "cell_type": "code",
   "execution_count": 117,
   "metadata": {},
   "outputs": [
    {
     "name": "stdout",
     "output_type": "stream",
     "text": [
      "System: Generate email using following information. Do not generate too long email. Be concise and polite.\n",
      "Human: \n",
      "        To: Prof.K\n",
      "        Contents: hello Professor, I have a question. when can I visit your office?\n",
      "        From: Woojin Heo\n",
      "        \n"
     ]
    }
   ],
   "source": [
    "receiver=\"Prof.K\"\n",
    "sender=\"Woojin Heo\"\n",
    "contents=\"hello Professor, I have a question. when can I visit your office?\"\n",
    "print(prompt.format(contents=contents,\n",
    "                    receiver=receiver,\n",
    "                    sender=sender,\n",
    "                    history=[]))"
   ]
  },
  {
   "cell_type": "code",
   "execution_count": 118,
   "metadata": {},
   "outputs": [],
   "source": [
    "def load_memory(_):\n",
    "    return memory.load_memory_variables({})['history']"
   ]
  },
  {
   "cell_type": "code",
   "execution_count": 119,
   "metadata": {},
   "outputs": [],
   "source": [
    "# chain\n",
    "chain = RunnablePassthrough.assign(history=load_memory) | prompt | llm\n",
    "\n",
    "# invoke with memory\n",
    "def invoke_chain(contents, receiver, sender):\n",
    "    result = chain.invoke({'contents':contents,\n",
    "                        'receiver':receiver,\n",
    "                        'sender':sender,\n",
    "                        'history':memory})\n",
    "    \n",
    "    memory.save_context({'input':f\"'contents':{contents},'receiver':{receiver},'sender':{sender}\"},\n",
    "                    {'output':result.content})\n",
    "    return result"
   ]
  },
  {
   "cell_type": "code",
   "execution_count": null,
   "metadata": {},
   "outputs": [
    {
     "data": {
      "text/plain": [
       "ChatMessageHistory(messages=[])"
      ]
     },
     "execution_count": 112,
     "metadata": {},
     "output_type": "execute_result"
    }
   ],
   "source": [
    "# memory.clear() # memory clear\n",
    "# memory.chat_memory"
   ]
  },
  {
   "cell_type": "code",
   "execution_count": 120,
   "metadata": {},
   "outputs": [
    {
     "name": "stdout",
     "output_type": "stream",
     "text": [
      " Subject: Request for Office Visit - Woojin Heo\n",
      "\n",
      "   Dear Professor K,\n",
      "\n",
      "   I hope this message finds you well. I am writing to inquire about the possibility of visiting your office at a convenient time for you. I have a question regarding our recent discussion and would greatly appreciate your insights.\n",
      "\n",
      "   Please let me know a suitable date and time that works best for you, and I will make sure to adjust my schedule accordingly.\n",
      "\n",
      "   Thank you for your time and consideration. I look forward to hearing from you soon.\n",
      "\n",
      "   Best regards,\n",
      "\n",
      "   Woojin Heo\n"
     ]
    }
   ],
   "source": [
    "# test\n",
    "contents=\"hello Professor, I have a question. when can I visit your office?\"\n",
    "receiver='prof.K'\n",
    "sender='woojin Heo'\n",
    "\n",
    "result = invoke_chain(contents, receiver, sender)\n",
    "\n",
    "# result\n",
    "print(result.content)"
   ]
  },
  {
   "cell_type": "code",
   "execution_count": null,
   "metadata": {},
   "outputs": [
    {
     "name": "stdout",
     "output_type": "stream",
     "text": [
      " Subject Re: Request for Office Visit - Woojin Heo\n",
      "\n",
      "   Dear Professor K,\n",
      "\n",
      "   Thank you for your prompt response. I appreciate your willingness to meet and discuss my question further.\n",
      "\n",
      "   I will schedule a visit to your office at the time you suggested. I am looking forward to our meeting and learning more from your expertise.\n",
      "\n",
      "   Best regards,\n",
      "\n",
      "   Woojin Heo\n"
     ]
    }
   ],
   "source": [
    "# test\n",
    "contents=\"Thank you.\"\n",
    "receiver='prof.K'\n",
    "sender='woojin Heo'\n",
    "\n",
    "result = invoke_chain(contents, receiver, sender)\n",
    "\n",
    "# result\n",
    "print(result.content)"
   ]
  },
  {
   "cell_type": "code",
   "execution_count": 122,
   "metadata": {},
   "outputs": [
    {
     "name": "stdout",
     "output_type": "stream",
     "text": [
      " Subject Re: Meeting Proposal - Woojin Heo\n",
      "\n",
      "   Dear Woojin,\n",
      "\n",
      "   Thank you for your request to meet. Unfortunately, my schedule is quite packed at the moment. I propose we have our meeting over Zoom tomorrow noon instead.\n",
      "\n",
      "   Please let me know if this time works for you, and I will adjust accordingly.\n",
      "\n",
      "   Best regards,\n",
      "\n",
      "   Professor K\n"
     ]
    }
   ],
   "source": [
    "# test\n",
    "contents=\"I'm busy. let's do it over zoom tmr noon.\"\n",
    "receiver='woojin heo'\n",
    "sender='prof.K'\n",
    "\n",
    "result = invoke_chain(contents, receiver, sender)\n",
    "\n",
    "# result\n",
    "print(result.content)"
   ]
  },
  {
   "cell_type": "code",
   "execution_count": null,
   "metadata": {},
   "outputs": [],
   "source": []
  }
 ],
 "metadata": {
  "kernelspec": {
   "display_name": "fgpt",
   "language": "python",
   "name": "python3"
  },
  "language_info": {
   "codemirror_mode": {
    "name": "ipython",
    "version": 3
   },
   "file_extension": ".py",
   "mimetype": "text/x-python",
   "name": "python",
   "nbconvert_exporter": "python",
   "pygments_lexer": "ipython3",
   "version": "3.11.11"
  }
 },
 "nbformat": 4,
 "nbformat_minor": 2
}
